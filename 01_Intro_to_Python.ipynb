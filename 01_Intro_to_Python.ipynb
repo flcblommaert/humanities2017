{
 "cells": [
  {
   "cell_type": "markdown",
   "metadata": {},
   "source": [
    "# Intro to Python"
   ]
  },
  {
   "cell_type": "markdown",
   "metadata": {},
   "source": [
    "This notebook contains a basic introduction to Python's data types and a few other concepts."
   ]
  },
  {
   "cell_type": "markdown",
   "metadata": {},
   "source": [
    "## Jupyter Notebooks"
   ]
  },
  {
   "cell_type": "markdown",
   "metadata": {},
   "source": [
    "The environment we are working with here is a \"Jupyter Notebook.\" The reason I do this is it provides a way to a familiar but interactive interface with which you can learn Python. It combines markup cells (like this one), which appear like a normal website, with interactive coding cells, which you can edit and use to run code."
   ]
  },
  {
   "cell_type": "markdown",
   "metadata": {},
   "source": [
    "### Jupyter Controls"
   ]
  },
  {
   "cell_type": "markdown",
   "metadata": {},
   "source": [
    "Most of the controls here should be fairly intuitive, but there are a few you should be aware of. The \"cell\" menu gives you multiple options for how to run the cells in the notebook. The notebook will remember the code you have run in each cell, so if you change something upstream, you may want to run all of the cells again.\n",
    "\n",
    "To run a specific cell, you can press the play button while your cursor is in that cell.\n",
    "\n",
    "You can change the type of cell with the dropdown menu next to the refresh button."
   ]
  },
  {
   "cell_type": "markdown",
   "metadata": {},
   "source": [
    "## Hello World, Strings, and Functions"
   ]
  },
  {
   "cell_type": "markdown",
   "metadata": {},
   "source": [
    "Most tutorials begin with the \"print\" function. A function is just prepackaged code that does something for you. It is used by writing the name of the function, followed by parantheses. Many (but not all) functions take some sort of input, which is placed inside the parantheses.\n",
    "\n",
    "The print function simply tells the python interpreter to print something to screen (not to a printer!).\n",
    "\n",
    "Place your cursor in the following cell and press the play button!"
   ]
  },
  {
   "cell_type": "markdown",
   "metadata": {},
   "source": [
    "### Strings (str)"
   ]
  },
  {
   "cell_type": "markdown",
   "metadata": {},
   "source": [
    "A string is simply something you want to treat as a sequence of characters. The Python interpreter knows that something is a string because it is placed between quotations marks! You can use either double quotation marks or single quotation marks."
   ]
  },
  {
   "cell_type": "code",
   "execution_count": 5,
   "metadata": {
    "collapsed": false
   },
   "outputs": [
    {
     "data": {
      "text/plain": [
       "'This is also a string'"
      ]
     },
     "execution_count": 5,
     "metadata": {},
     "output_type": "execute_result"
    }
   ],
   "source": [
    "\"This is a string\"\n",
    "\n",
    "'This is also a string'"
   ]
  },
  {
   "cell_type": "markdown",
   "metadata": {},
   "source": [
    "Note the \"Out\" line above. Jupyter notebooks will print the last line of code like this if there are no print statements. This does not normally happen if you are writing code in a plain text file."
   ]
  },
  {
   "cell_type": "markdown",
   "metadata": {},
   "source": [
    "#### Watch out!"
   ]
  },
  {
   "cell_type": "markdown",
   "metadata": {},
   "source": [
    "You cannot mix double and single quotes. Similarly, you cannot have an apostrophe in a string denoted with single quotation marks. This will generate an error:"
   ]
  },
  {
   "cell_type": "code",
   "execution_count": 6,
   "metadata": {
    "collapsed": false
   },
   "outputs": [
    {
     "ename": "SyntaxError",
     "evalue": "EOL while scanning string literal (<ipython-input-6-984aee9b7705>, line 1)",
     "output_type": "error",
     "traceback": [
      "\u001b[0;36m  File \u001b[0;32m\"<ipython-input-6-984aee9b7705>\"\u001b[0;36m, line \u001b[0;32m1\u001b[0m\n\u001b[0;31m    \"You should expect an error here'\u001b[0m\n\u001b[0m                                     ^\u001b[0m\n\u001b[0;31mSyntaxError\u001b[0m\u001b[0;31m:\u001b[0m EOL while scanning string literal\n"
     ]
    }
   ],
   "source": [
    "\"You should expect an error here'\n",
    "\n",
    "'This's probably going to cause an error'"
   ]
  },
  {
   "cell_type": "markdown",
   "metadata": {},
   "source": [
    "The above code generated a SyntaxError. The description of the error provides a lot of useful information, which we will look at later."
   ]
  },
  {
   "cell_type": "markdown",
   "metadata": {},
   "source": [
    "### Dealing with strings that contain quotation marks"
   ]
  },
  {
   "cell_type": "markdown",
   "metadata": {},
   "source": [
    "Sometimes you will need to deal with a string that contains quotation marks. There are several ways to deal with this. \n",
    "\n",
    "Use double quotation marks if your string has a single quotation mark:"
   ]
  },
  {
   "cell_type": "code",
   "execution_count": 7,
   "metadata": {
    "collapsed": false
   },
   "outputs": [
    {
     "data": {
      "text/plain": [
       "\"This is Paul's string\""
      ]
     },
     "execution_count": 7,
     "metadata": {},
     "output_type": "execute_result"
    }
   ],
   "source": [
    "\"This is Paul's string\""
   ]
  },
  {
   "cell_type": "markdown",
   "metadata": {},
   "source": [
    "Use single quotation marks if your string has a double quotation mark:"
   ]
  },
  {
   "cell_type": "code",
   "execution_count": 8,
   "metadata": {
    "collapsed": false
   },
   "outputs": [
    {
     "data": {
      "text/plain": [
       "'This is a \"string\"'"
      ]
     },
     "execution_count": 8,
     "metadata": {},
     "output_type": "execute_result"
    }
   ],
   "source": [
    "'This is a \"string\"'"
   ]
  },
  {
   "cell_type": "markdown",
   "metadata": {},
   "source": [
    "You can also \"escape\" the mark using the \\ (backslash):"
   ]
  },
  {
   "cell_type": "code",
   "execution_count": 9,
   "metadata": {
    "collapsed": false
   },
   "outputs": [
    {
     "data": {
      "text/plain": [
       "'This is a \"string\"'"
      ]
     },
     "execution_count": 9,
     "metadata": {},
     "output_type": "execute_result"
    }
   ],
   "source": [
    "\"This is a \\\"string\\\"\""
   ]
  },
  {
   "cell_type": "markdown",
   "metadata": {},
   "source": [
    "### Commenting"
   ]
  },
  {
   "cell_type": "markdown",
   "metadata": {},
   "source": [
    "You can add comments to your code to help yourself and other people reading it in several ways. Starting a piece of code with a # (hash) will tell the interpreter to ignore everything on the line following the hash:"
   ]
  },
  {
   "cell_type": "code",
   "execution_count": 10,
   "metadata": {
    "collapsed": false
   },
   "outputs": [
    {
     "data": {
      "text/plain": [
       "'hello'"
      ]
     },
     "execution_count": 10,
     "metadata": {},
     "output_type": "execute_result"
    }
   ],
   "source": [
    "# This will be ignored\n",
    "\"Hi\"\n",
    "\"hello\"  # This will also be ignored"
   ]
  },
  {
   "cell_type": "markdown",
   "metadata": {},
   "source": [
    "If you want to make a comment that extends more than one line, you can use ''' (three single quotation marks) at the begining and another ''' at the end:"
   ]
  },
  {
   "cell_type": "code",
   "execution_count": 11,
   "metadata": {
    "collapsed": false
   },
   "outputs": [
    {
     "data": {
      "text/plain": [
       "'yes'"
      ]
     },
     "execution_count": 11,
     "metadata": {},
     "output_type": "execute_result"
    }
   ],
   "source": [
    "\"Yup\"\n",
    "'''\n",
    "This is a multiline comment!\n",
    "Everything is ignored!\n",
    "'''\n",
    "\"yes\""
   ]
  },
  {
   "cell_type": "markdown",
   "metadata": {},
   "source": [
    "### Variables"
   ]
  },
  {
   "cell_type": "markdown",
   "metadata": {},
   "source": [
    "Variables let you store information so you can reuse it. This is partially why programming is so useful! A variable is set in python with = (equals sign). You have a lot of freedom in variable names in Python, but there are a few guidelines. They should start with a lowercase letter and you should make them as descriptive as possible.\n",
    "\n",
    "A few examples:"
   ]
  },
  {
   "cell_type": "code",
   "execution_count": 12,
   "metadata": {
    "collapsed": true
   },
   "outputs": [],
   "source": [
    "y = 5\n",
    "\n",
    "i = \"g\"\n",
    "\n",
    "this_is_a_long_variable_name =  \"This is a string\"\n",
    "\n",
    "my_string = \"This is my string.\"\n",
    "\n",
    "also_a_string = '1234'"
   ]
  },
  {
   "cell_type": "markdown",
   "metadata": {},
   "source": [
    "#### Watch out!"
   ]
  },
  {
   "cell_type": "markdown",
   "metadata": {},
   "source": [
    "When naming variables, you should be sure to avoid using reserved words. Things like str, float, list and so on should not be used as variable names because doing this will cause your code to perform in weird ways. You will know if something is a reserved word in Jupyter because it turns green!\n",
    "\n",
    "You also cannot use numbers to start variables, and you should avoid capital letters (though this is convention and not enforced by the language itself)."
   ]
  },
  {
   "cell_type": "markdown",
   "metadata": {},
   "source": [
    "### Print: A function"
   ]
  },
  {
   "cell_type": "markdown",
   "metadata": {},
   "source": [
    "You can use the print function to write something to the terminal. If you are running code from a plain text file, this will appear in your console. Here, it will appear below the code block."
   ]
  },
  {
   "cell_type": "code",
   "execution_count": 13,
   "metadata": {
    "collapsed": false
   },
   "outputs": [
    {
     "name": "stdout",
     "output_type": "stream",
     "text": [
      "hello, world\n"
     ]
    }
   ],
   "source": [
    "print(\"hello, world\")"
   ]
  },
  {
   "cell_type": "markdown",
   "metadata": {},
   "source": [
    "You can also reuse the variables from above:"
   ]
  },
  {
   "cell_type": "code",
   "execution_count": 14,
   "metadata": {
    "collapsed": false
   },
   "outputs": [
    {
     "name": "stdout",
     "output_type": "stream",
     "text": [
      "5\n",
      "g\n",
      "This is a string\n"
     ]
    }
   ],
   "source": [
    "print(y)\n",
    "print(i)\n",
    "print(this_is_a_long_variable_name)"
   ]
  },
  {
   "cell_type": "markdown",
   "metadata": {},
   "source": [
    "### Methods and Functions"
   ]
  },
  {
   "cell_type": "markdown",
   "metadata": {},
   "source": [
    "Python comes with many built in functionalities that allow you to manipulate and change data. Functions exist independent from objects and are usually passed one or more objects (usually refered to as parameters), whereas methods are associated with specific objects. The main difference is in syntax."
   ]
  },
  {
   "cell_type": "markdown",
   "metadata": {},
   "source": [
    "#### String Methods: Count"
   ]
  },
  {
   "cell_type": "code",
   "execution_count": 15,
   "metadata": {
    "collapsed": false
   },
   "outputs": [
    {
     "name": "stdout",
     "output_type": "stream",
     "text": [
      "2\n",
      "2\n"
     ]
    }
   ],
   "source": [
    "my_string = \"Hello, how are you today?\"\n",
    "\n",
    "a_frequency = my_string.count(\"a\")\n",
    "\n",
    "print(a_frequency)\n",
    "\n",
    "# This does the same thing:\n",
    "count_term = \"a\"\n",
    "\n",
    "a_frequency = my_string.count(count_term)\n",
    "\n",
    "print(a_frequency)"
   ]
  },
  {
   "cell_type": "markdown",
   "metadata": {},
   "source": [
    "#### Concatenation"
   ]
  },
  {
   "cell_type": "code",
   "execution_count": 17,
   "metadata": {
    "collapsed": false
   },
   "outputs": [
    {
     "name": "stdout",
     "output_type": "stream",
     "text": [
      "Hello, how are you today?chum\n",
      "12345678\n"
     ]
    }
   ],
   "source": [
    "secondstring = \"chum\"\n",
    "\n",
    "new_string = my_string + secondstring\n",
    "\n",
    "print(new_string)\n",
    "\n",
    "number_string = \"1234\" + \"5678\"\n",
    "\n",
    "print(number_string)"
   ]
  },
  {
   "cell_type": "markdown",
   "metadata": {},
   "source": [
    "#### String function: Length"
   ]
  },
  {
   "cell_type": "code",
   "execution_count": 19,
   "metadata": {
    "collapsed": false
   },
   "outputs": [
    {
     "name": "stdout",
     "output_type": "stream",
     "text": [
      "25\n",
      "25\n"
     ]
    }
   ],
   "source": [
    "# The len() will return how long an object is\n",
    "\n",
    "string_length = len(my_string)\n",
    "\n",
    "print(string_length)\n",
    "\n",
    "print(len(my_string))"
   ]
  },
  {
   "cell_type": "markdown",
   "metadata": {},
   "source": [
    "#### Manipulating strings: substring"
   ]
  },
  {
   "cell_type": "code",
   "execution_count": 20,
   "metadata": {
    "collapsed": false
   },
   "outputs": [
    {
     "name": "stdout",
     "output_type": "stream",
     "text": [
      "Hello, h\n"
     ]
    }
   ],
   "source": [
    "substring = my_string[0:8]\n",
    "print(substring)"
   ]
  },
  {
   "cell_type": "markdown",
   "metadata": {},
   "source": [
    "#### String method: find"
   ]
  },
  {
   "cell_type": "code",
   "execution_count": 22,
   "metadata": {
    "collapsed": false
   },
   "outputs": [
    {
     "name": "stdout",
     "output_type": "stream",
     "text": [
      "7\n",
      "7\n"
     ]
    }
   ],
   "source": [
    "# search directly\n",
    "results = my_string.find(\"how\")\n",
    "print(results)\n",
    "\n",
    "# search with a variable\n",
    "search_term = \"how\"\n",
    "results = my_string.find(search_term)\n",
    "print(results)"
   ]
  },
  {
   "cell_type": "markdown",
   "metadata": {},
   "source": [
    "#### Combining find and substring"
   ]
  },
  {
   "cell_type": "code",
   "execution_count": 23,
   "metadata": {
    "collapsed": false
   },
   "outputs": [
    {
     "name": "stdout",
     "output_type": "stream",
     "text": [
      "7\n",
      "how\n",
      "how\n"
     ]
    }
   ],
   "source": [
    "search_term=\"how\"\n",
    "location = my_string.find(search_term)\n",
    "print(location)\n",
    "print(my_string[location:location+3])\n",
    "print(my_string[location:location+len(search_term)])"
   ]
  },
  {
   "cell_type": "markdown",
   "metadata": {},
   "source": [
    "#### String Method: Replace\n",
    "You can replace a substring with another one if you like. If you replace a character with an empty string, it functions as if you were deleting something"
   ]
  },
  {
   "cell_type": "code",
   "execution_count": 24,
   "metadata": {
    "collapsed": false
   },
   "outputs": [
    {
     "name": "stdout",
     "output_type": "stream",
     "text": [
      "Hello, how ore you todoy?\n"
     ]
    }
   ],
   "source": [
    "misspelled = my_string.replace('a','o')\n",
    "\n",
    "print(misspelled)\n",
    "\n",
    "new_string = my_string.replace(\",\",\"\")"
   ]
  },
  {
   "cell_type": "markdown",
   "metadata": {},
   "source": [
    "#### Overwritting a variable\n",
    "You can save a variable to itself, which overwrites an old value with a new one"
   ]
  },
  {
   "cell_type": "code",
   "execution_count": 25,
   "metadata": {
    "collapsed": false
   },
   "outputs": [
    {
     "name": "stdout",
     "output_type": "stream",
     "text": [
      "Hello, how are you?\n",
      "Hello how are you?\n"
     ]
    }
   ],
   "source": [
    "my_string = \"Hello, how are you?\"\n",
    "print(my_string)\n",
    "my_string = my_string.replace(\",\",\"\")\n",
    "print(my_string)"
   ]
  },
  {
   "cell_type": "markdown",
   "metadata": {},
   "source": [
    "#### Other useful string methods:"
   ]
  },
  {
   "cell_type": "code",
   "execution_count": 26,
   "metadata": {
    "collapsed": false
   },
   "outputs": [
    {
     "name": "stdout",
     "output_type": "stream",
     "text": [
      "Arandomstring\n",
      "True\n",
      "False\n",
      "False\n",
      "True\n",
      "sure seems like shouting\n",
      "ARANDOMSTRING\n"
     ]
    }
   ],
   "source": [
    "r_string = \"arandomstring\"\n",
    "print(r_string.capitalize())\n",
    "print(r_string.isalnum())\n",
    "print(r_string.isdecimal())\n",
    "print(r_string.isnumeric())\n",
    "print(r_string.isalpha())\n",
    "print(\"SURE SEEMS LIKE SHOUTING\".lower())\n",
    "print(r_string.upper())"
   ]
  },
  {
   "cell_type": "markdown",
   "metadata": {},
   "source": [
    "### More Data Types"
   ]
  },
  {
   "cell_type": "markdown",
   "metadata": {},
   "source": [
    "Python contains a number of different data types, and one of these is the string. Here are some others:"
   ]
  },
  {
   "cell_type": "markdown",
   "metadata": {},
   "source": [
    "#### Integers (int)"
   ]
  },
  {
   "cell_type": "markdown",
   "metadata": {},
   "source": [
    "Intergers are whole numbers:"
   ]
  },
  {
   "cell_type": "code",
   "execution_count": 27,
   "metadata": {
    "collapsed": false
   },
   "outputs": [
    {
     "data": {
      "text/plain": [
       "89"
      ]
     },
     "execution_count": 27,
     "metadata": {},
     "output_type": "execute_result"
    }
   ],
   "source": [
    "1\n",
    "2\n",
    "5000\n",
    "89"
   ]
  },
  {
   "cell_type": "markdown",
   "metadata": {},
   "source": [
    "### A little math"
   ]
  },
  {
   "cell_type": "markdown",
   "metadata": {},
   "source": [
    "In Python, you can perform math easily with the basic operators"
   ]
  },
  {
   "cell_type": "markdown",
   "metadata": {},
   "source": [
    "#### Addition (+)"
   ]
  },
  {
   "cell_type": "code",
   "execution_count": 28,
   "metadata": {
    "collapsed": false
   },
   "outputs": [
    {
     "data": {
      "text/plain": [
       "22"
      ]
     },
     "execution_count": 28,
     "metadata": {},
     "output_type": "execute_result"
    }
   ],
   "source": [
    "12 + 10"
   ]
  },
  {
   "cell_type": "markdown",
   "metadata": {},
   "source": [
    "#### Subtraction (-)"
   ]
  },
  {
   "cell_type": "code",
   "execution_count": 29,
   "metadata": {
    "collapsed": false
   },
   "outputs": [
    {
     "data": {
      "text/plain": [
       "1"
      ]
     },
     "execution_count": 29,
     "metadata": {},
     "output_type": "execute_result"
    }
   ],
   "source": [
    "12 - 11"
   ]
  },
  {
   "cell_type": "markdown",
   "metadata": {},
   "source": [
    "#### Multiplication (*)"
   ]
  },
  {
   "cell_type": "code",
   "execution_count": 30,
   "metadata": {
    "collapsed": false
   },
   "outputs": [
    {
     "data": {
      "text/plain": [
       "9"
      ]
     },
     "execution_count": 30,
     "metadata": {},
     "output_type": "execute_result"
    }
   ],
   "source": [
    "3 * 3"
   ]
  },
  {
   "cell_type": "markdown",
   "metadata": {},
   "source": [
    "You can use variables too!"
   ]
  },
  {
   "cell_type": "code",
   "execution_count": 31,
   "metadata": {
    "collapsed": false
   },
   "outputs": [
    {
     "data": {
      "text/plain": [
       "12"
      ]
     },
     "execution_count": 31,
     "metadata": {},
     "output_type": "execute_result"
    }
   ],
   "source": [
    "a = 3\n",
    "b = 4\n",
    "\n",
    "a * b"
   ]
  },
  {
   "cell_type": "markdown",
   "metadata": {},
   "source": [
    "#### Division (/)"
   ]
  },
  {
   "cell_type": "code",
   "execution_count": 32,
   "metadata": {
    "collapsed": false
   },
   "outputs": [
    {
     "data": {
      "text/plain": [
       "2.4"
      ]
     },
     "execution_count": 32,
     "metadata": {},
     "output_type": "execute_result"
    }
   ],
   "source": [
    "12/5"
   ]
  },
  {
   "cell_type": "markdown",
   "metadata": {},
   "source": [
    "There is something interseting here! In Python 3, / will perform float division. That means that the result will be a float, even when dividing two integers. In older versions of Python, and in many other programming languages, dividing one integer by another performs integer division. This means that it will return an integer (and completely discard the remainder, if there is one). To do integer division in Python 3, use //"
   ]
  },
  {
   "cell_type": "markdown",
   "metadata": {},
   "source": [
    "#### Integer Division (//)"
   ]
  },
  {
   "cell_type": "code",
   "execution_count": 33,
   "metadata": {
    "collapsed": false
   },
   "outputs": [
    {
     "data": {
      "text/plain": [
       "2"
      ]
     },
     "execution_count": 33,
     "metadata": {},
     "output_type": "execute_result"
    }
   ],
   "source": [
    "12//5"
   ]
  },
  {
   "cell_type": "markdown",
   "metadata": {},
   "source": [
    "#### Floats (float)"
   ]
  },
  {
   "cell_type": "markdown",
   "metadata": {},
   "source": [
    "Floats, or floating point numbers, are numbers with decimals:"
   ]
  },
  {
   "cell_type": "code",
   "execution_count": 34,
   "metadata": {
    "collapsed": false
   },
   "outputs": [
    {
     "data": {
      "text/plain": [
       "0.01"
      ]
     },
     "execution_count": 34,
     "metadata": {},
     "output_type": "execute_result"
    }
   ],
   "source": [
    "12.0\n",
    "5892.3\n",
    "0.01"
   ]
  },
  {
   "cell_type": "markdown",
   "metadata": {},
   "source": [
    "### Casting data types"
   ]
  },
  {
   "cell_type": "markdown",
   "metadata": {},
   "source": [
    "You can change somethings data type by \"casting\" it with a function like\n",
    "int()\n",
    "float()\n",
    "str()"
   ]
  },
  {
   "cell_type": "code",
   "execution_count": 35,
   "metadata": {
    "collapsed": false
   },
   "outputs": [
    {
     "data": {
      "text/plain": [
       "15.0"
      ]
     },
     "execution_count": 35,
     "metadata": {},
     "output_type": "execute_result"
    }
   ],
   "source": [
    "str(15)\n",
    "int(\"15\")\n",
    "float(15)"
   ]
  },
  {
   "cell_type": "markdown",
   "metadata": {},
   "source": [
    "You can check the type of a piece of data with the \"type\" function:"
   ]
  },
  {
   "cell_type": "code",
   "execution_count": 36,
   "metadata": {
    "collapsed": false
   },
   "outputs": [
    {
     "data": {
      "text/plain": [
       "int"
      ]
     },
     "execution_count": 36,
     "metadata": {},
     "output_type": "execute_result"
    }
   ],
   "source": [
    "type(1)"
   ]
  },
  {
   "cell_type": "markdown",
   "metadata": {},
   "source": [
    "Normally you would use the print function to see these:"
   ]
  },
  {
   "cell_type": "code",
   "execution_count": 37,
   "metadata": {
    "collapsed": false
   },
   "outputs": [
    {
     "name": "stdout",
     "output_type": "stream",
     "text": [
      "<class 'int'>\n",
      "<class 'float'>\n",
      "<class 'str'>\n"
     ]
    }
   ],
   "source": [
    "print(type(1))\n",
    "print(type(1.0))\n",
    "print(type(\"Woof\"))"
   ]
  },
  {
   "cell_type": "markdown",
   "metadata": {},
   "source": [
    "#### Ints and Floats"
   ]
  },
  {
   "cell_type": "markdown",
   "metadata": {},
   "source": [
    "If you perform math on an integer and a float, the output will always be a float. Also note that you will get rounding errors with floats, due to the way that the computer stores the information. For most of our purposes, we can just ignore these, but be aware that they exist:"
   ]
  },
  {
   "cell_type": "code",
   "execution_count": 38,
   "metadata": {
    "collapsed": false
   },
   "outputs": [
    {
     "name": "stdout",
     "output_type": "stream",
     "text": [
      "11.0\n",
      "8.8\n",
      "0.30000000000000004\n"
     ]
    }
   ],
   "source": [
    "result1 = 10 + 1.0\n",
    "result2 = 10 - 1.2\n",
    "result3 = 0.1 + 0.2\n",
    "\n",
    "print(result1)\n",
    "print(result2)\n",
    "print(result3)"
   ]
  },
  {
   "cell_type": "markdown",
   "metadata": {},
   "source": [
    "### Lists"
   ]
  },
  {
   "cell_type": "markdown",
   "metadata": {},
   "source": [
    "There are a number of ways of storing more than one piece of information. Lists are a good example. They are ordered collections of more simple data types, and they are denoted with [] (square brackets) and individual values are seperated with commas:"
   ]
  },
  {
   "cell_type": "code",
   "execution_count": 39,
   "metadata": {
    "collapsed": false
   },
   "outputs": [
    {
     "name": "stdout",
     "output_type": "stream",
     "text": [
      "[] [1, 2, 3, 4, 5] ['Roger', 'Lily', 'Ming'] [1, 4.0, 'Ilke'] [[1, 2], [2, 1], [2, 2, 2]]\n"
     ]
    }
   ],
   "source": [
    "# You can have empty lists\n",
    "empty_list = []\n",
    "\n",
    "list1 = [1, 2, 3, 4, 5]\n",
    "\n",
    "list2 = [\"Roger\", \"Lily\", \"Ming\"]\n",
    "\n",
    "# You can mix data types too!\n",
    "list3 = [1, 4.0, \"Ilke\"]\n",
    "\n",
    "# You can have lists of lists\n",
    "\n",
    "listList = [[1,2],[2,1],[2,2,2]]\n",
    "\n",
    "print(empty_list,list1,list2,list3,listList)"
   ]
  },
  {
   "cell_type": "markdown",
   "metadata": {},
   "source": [
    "You can return the value at a certain point in the list using its index and the square bracket notation. Note that in Python, indexing starts at 0. This means that the first item in everything is at place 0, the second at place 1, and so forth:"
   ]
  },
  {
   "cell_type": "code",
   "execution_count": 40,
   "metadata": {
    "collapsed": false
   },
   "outputs": [
    {
     "data": {
      "text/plain": [
       "1"
      ]
     },
     "execution_count": 40,
     "metadata": {},
     "output_type": "execute_result"
    }
   ],
   "source": [
    "list1[0]"
   ]
  },
  {
   "cell_type": "code",
   "execution_count": 41,
   "metadata": {
    "collapsed": false
   },
   "outputs": [
    {
     "name": "stdout",
     "output_type": "stream",
     "text": [
      "1\n"
     ]
    }
   ],
   "source": [
    "# you can save this to variable to reuse it\n",
    "value = list1[0]\n",
    "\n",
    "print(value)"
   ]
  },
  {
   "cell_type": "markdown",
   "metadata": {},
   "source": [
    "#### Lists to Strings, Strings to Lists"
   ]
  },
  {
   "cell_type": "markdown",
   "metadata": {},
   "source": [
    "You can convert strings to lists and vice-versa!"
   ]
  },
  {
   "cell_type": "code",
   "execution_count": 42,
   "metadata": {
    "collapsed": false
   },
   "outputs": [
    {
     "name": "stdout",
     "output_type": "stream",
     "text": [
      "['H', 'i', ',', ' ', 'm', 'y', ' ', 'n', 'a', 'm', 'e', ' ', 'i', 's', ' ', 'P', 'a', 'u', 'l']\n",
      "['Hi,', 'my', 'name', 'is', 'Paul']\n",
      "Hi, my name is Paul\n"
     ]
    }
   ],
   "source": [
    "# The most basic way of turning a string into a list:\n",
    "print(list(\"Hi, my name is Paul\"))\n",
    "\n",
    "# You can also use the split method, and split along a character\n",
    "# Here we split on spaces, but you can use \\n for new lines and \\t\n",
    "# for tabs\n",
    "print((\"Hi, my name is Paul\".split(\" \")))\n",
    "\n",
    "# Going from a list to a string is straight forward too:\n",
    "print(\" \".join([\"Hi,\",\"my\",\"name\",\"is\",\"Paul\"]))"
   ]
  },
  {
   "cell_type": "markdown",
   "metadata": {},
   "source": [
    "### Editing Lists"
   ]
  },
  {
   "cell_type": "markdown",
   "metadata": {},
   "source": [
    "You can change information in a list using several methods."
   ]
  },
  {
   "cell_type": "code",
   "execution_count": 46,
   "metadata": {
    "collapsed": false
   },
   "outputs": [
    {
     "name": "stdout",
     "output_type": "stream",
     "text": [
      "[1, 2, 'Random', 'Hello', 'Hello', 3, 4, 5]\n",
      "[1, 2, 'Random', 'Hello', 'Hello', 3, 4, 5, 1]\n",
      "1\n",
      "[1, 2, 'Random', 'Random', 'Hello', 'Hello', 3, 4, 5]\n"
     ]
    }
   ],
   "source": [
    "# Print contents of list 1\n",
    "print(list1)\n",
    "\n",
    "# Add another number to list 1\n",
    "list1.append(1)\n",
    "\n",
    "# Print new contents of list 1\n",
    "print(list1)\n",
    "\n",
    "# Remove the last element of the list:\n",
    "# This will change the list in place (that is, you don't have to reassign to a new variable)\n",
    "print(list1.pop())\n",
    "\n",
    "# Add an object to a list in a specific place\n",
    "list1.insert(2,\"Hello\")\n",
    "print(list1)\n"
   ]
  },
  {
   "cell_type": "markdown",
   "metadata": {},
   "source": [
    "#### Other useful functions and methods"
   ]
  },
  {
   "cell_type": "code",
   "execution_count": 50,
   "metadata": {
    "collapsed": false
   },
   "outputs": [
    {
     "name": "stdout",
     "output_type": "stream",
     "text": [
      "[1, 2, 7, 4, 3, 6]\n",
      "1\n",
      "7\n",
      "4\n",
      "[6, 3, 4, 7, 2, 1]\n",
      "[1, 2, 3, 4, 6, 7]\n",
      "9\n"
     ]
    }
   ],
   "source": [
    "new_list = [1,2,7,4,3,6]\n",
    "print(new_list)\n",
    "\n",
    "# Get lowest value\n",
    "minval = min(new_list)\n",
    "print(minval)\n",
    "\n",
    "# Get highest value\n",
    "maxval = max(new_list)\n",
    "print(maxval)\n",
    "\n",
    "# Get location of value\n",
    "location = new_list.index(3)\n",
    "print(location)\n",
    "\n",
    "# Reverse the order of the lsit\n",
    "new_list.reverse()\n",
    "print(new_list)\n",
    "# Sort the list\n",
    "new_list.sort()\n",
    "print(new_list)\n",
    "\n",
    "# Find how many elements are in a list\n",
    "listsize = len(list1)\n",
    "print(listsize)\n"
   ]
  },
  {
   "cell_type": "markdown",
   "metadata": {},
   "source": [
    "### Boolean Logic: Comparisons"
   ]
  },
  {
   "cell_type": "markdown",
   "metadata": {},
   "source": [
    "Now that we have a grasp on variables and a few data structures, the next thing to do is to compare values.\n",
    "\n",
    "|Operation|Code|\n",
    "|---|---|\n",
    "|Equal to|==|\n",
    "|Is not equal to|!=|\n",
    "|Less Than |<|\n",
    "|Greater Than|>|\n",
    "|Less than or equal to|<=|\n",
    "|Greater Than or equal to|>=|\n",
    "These will all return a value of either True or False."
   ]
  },
  {
   "cell_type": "code",
   "execution_count": 51,
   "metadata": {
    "collapsed": false
   },
   "outputs": [
    {
     "name": "stdout",
     "output_type": "stream",
     "text": [
      "True False True True\n"
     ]
    }
   ],
   "source": [
    "a = 10 < 15\n",
    "b = 10 > 15\n",
    "c = 16 >= 16\n",
    "d = \"this\" == \"this\"\n",
    "\n",
    "print(a,b,c,d)\n"
   ]
  },
  {
   "cell_type": "markdown",
   "metadata": {},
   "source": [
    "### If Statements"
   ]
  },
  {
   "cell_type": "markdown",
   "metadata": {},
   "source": [
    "One of the most useful things to do in programming is to do something if something else is or isn't true. In python, this is done with the if statement. If something is true, execute the following code block. Python determines code blocks with indentation:"
   ]
  },
  {
   "cell_type": "code",
   "execution_count": 52,
   "metadata": {
    "collapsed": false
   },
   "outputs": [
    {
     "name": "stdout",
     "output_type": "stream",
     "text": [
      "Exactly!\n"
     ]
    }
   ],
   "source": [
    "# This will execute the print statement\n",
    "if 10 < 20:\n",
    "    print(\"Exactly!\")"
   ]
  },
  {
   "cell_type": "code",
   "execution_count": 53,
   "metadata": {
    "collapsed": true
   },
   "outputs": [],
   "source": [
    "# This will not execute the print statement\n",
    "if 10 > 20:\n",
    "    print(\"Exactly\")"
   ]
  },
  {
   "cell_type": "markdown",
   "metadata": {},
   "source": [
    "Code runs top to bottom, so you can continue with your program after the if statement by unindenting your code:"
   ]
  },
  {
   "cell_type": "code",
   "execution_count": 54,
   "metadata": {
    "collapsed": false
   },
   "outputs": [
    {
     "name": "stdout",
     "output_type": "stream",
     "text": [
      "20\n"
     ]
    }
   ],
   "source": [
    "if 10 > 20:\n",
    "    print(\"Exactly\")\n",
    "a = 20\n",
    "print(a)"
   ]
  },
  {
   "cell_type": "markdown",
   "metadata": {},
   "source": [
    "### If/Else"
   ]
  },
  {
   "cell_type": "markdown",
   "metadata": {},
   "source": [
    "You can execute different code if your if statement fails using an else statement:"
   ]
  },
  {
   "cell_type": "code",
   "execution_count": 55,
   "metadata": {
    "collapsed": false
   },
   "outputs": [
    {
     "name": "stdout",
     "output_type": "stream",
     "text": [
      "It is smaller\n"
     ]
    }
   ],
   "source": [
    "if 10 > 20:\n",
    "    a = \"It is larger\"\n",
    "else:\n",
    "    a = \"It is smaller\"\n",
    "print(a)"
   ]
  },
  {
   "cell_type": "markdown",
   "metadata": {},
   "source": [
    "### If/Elif/Else"
   ]
  },
  {
   "cell_type": "markdown",
   "metadata": {},
   "source": [
    "You can make this even more complicated with an if elif else statement:"
   ]
  },
  {
   "cell_type": "code",
   "execution_count": 56,
   "metadata": {
    "collapsed": false
   },
   "outputs": [
    {
     "name": "stdout",
     "output_type": "stream",
     "text": [
      "It is the same\n"
     ]
    }
   ],
   "source": [
    "if 10 > 10:\n",
    "    a = \"It is larger\"\n",
    "elif 10 == 10:\n",
    "    a = \"It is the same\"\n",
    "else:\n",
    "    a = \"It is smaller\"\n",
    "print(a)"
   ]
  },
  {
   "cell_type": "markdown",
   "metadata": {},
   "source": [
    "Be aware, the code will exit the if/elif/else statement as soon as one evaluates to True. This can lead to unexpected behavior if you are not careful:"
   ]
  },
  {
   "cell_type": "code",
   "execution_count": 57,
   "metadata": {
    "collapsed": false
   },
   "outputs": [
    {
     "name": "stdout",
     "output_type": "stream",
     "text": [
      "a is closest to 1\n"
     ]
    }
   ],
   "source": [
    "a = 10\n",
    "\n",
    "if a > 1:\n",
    "    b = \"a is closest to 1\"\n",
    "elif a > 5:\n",
    "    b = \"a is closest to 5\"\n",
    "elif a > 6:\n",
    "    b = \"a is closest to 6\"\n",
    "elif a > 8:\n",
    "    b = \"a is closest to 8\"\n",
    "else:\n",
    "    b = \"not sure what you are looking for\"\n",
    "\n",
    "print(b)"
   ]
  },
  {
   "cell_type": "markdown",
   "metadata": {},
   "source": [
    "### And/Or\n",
    "You can make multiple statemnts on a single line using and/or.\n",
    "\n",
    "For \"and\" to evalute to True both statements must be true:"
   ]
  },
  {
   "cell_type": "code",
   "execution_count": 58,
   "metadata": {
    "collapsed": false
   },
   "outputs": [
    {
     "name": "stdout",
     "output_type": "stream",
     "text": [
      "i is less than ten but greater than 5\n"
     ]
    }
   ],
   "source": [
    "i = 6\n",
    "if i <10 and i >5:\n",
    "    print(\"i is less than ten but greater than 5\")"
   ]
  },
  {
   "cell_type": "markdown",
   "metadata": {},
   "source": [
    "For \"or\" to evaluate to True, one of the statements must be true:"
   ]
  },
  {
   "cell_type": "code",
   "execution_count": 59,
   "metadata": {
    "collapsed": false
   },
   "outputs": [
    {
     "name": "stdout",
     "output_type": "stream",
     "text": [
      "i is either less than five or less than ten (possibly both)\n"
     ]
    }
   ],
   "source": [
    "if i < 5 or i <10:\n",
    "    print(\"i is either less than five or less than ten (possibly both)\")"
   ]
  },
  {
   "cell_type": "markdown",
   "metadata": {},
   "source": [
    "### not\n",
    "It is sometimes useful to check if something isn't true"
   ]
  },
  {
   "cell_type": "code",
   "execution_count": 60,
   "metadata": {
    "collapsed": true
   },
   "outputs": [],
   "source": [
    "if \"run\" not in \"I run the team.\":\n",
    "    print(\"run not in the string\")"
   ]
  },
  {
   "cell_type": "markdown",
   "metadata": {},
   "source": [
    "### Loops"
   ]
  },
  {
   "cell_type": "markdown",
   "metadata": {},
   "source": [
    "You will often want to perform the same task multiple times. Use loops to do this. There are a number of kinds of loops. While loops will keep iterating until some condition is met:"
   ]
  },
  {
   "cell_type": "code",
   "execution_count": 61,
   "metadata": {
    "collapsed": false
   },
   "outputs": [
    {
     "name": "stdout",
     "output_type": "stream",
     "text": [
      "0 not yet 10\n",
      "1 not yet 10\n",
      "2 not yet 10\n",
      "3 not yet 10\n",
      "4 not yet 10\n",
      "5 not yet 10\n",
      "6 not yet 10\n",
      "7 not yet 10\n",
      "8 not yet 10\n",
      "9 not yet 10\n"
     ]
    }
   ],
   "source": [
    "i = 0\n",
    "\n",
    "while i < 10:\n",
    "    print(i, \"not yet 10\")\n",
    "    # this line takes the value of i and increases it by 1\n",
    "    i = i + 1"
   ]
  },
  {
   "cell_type": "markdown",
   "metadata": {},
   "source": [
    "Use a for loop to do something a specific number of times:"
   ]
  },
  {
   "cell_type": "code",
   "execution_count": 62,
   "metadata": {
    "collapsed": false
   },
   "outputs": [
    {
     "name": "stdout",
     "output_type": "stream",
     "text": [
      "0 not yet 10\n",
      "1 not yet 10\n",
      "2 not yet 10\n",
      "3 not yet 10\n",
      "4 not yet 10\n",
      "5 not yet 10\n",
      "6 not yet 10\n",
      "7 not yet 10\n",
      "8 not yet 10\n",
      "9 not yet 10\n"
     ]
    }
   ],
   "source": [
    "for i in range(0,10):\n",
    "    print(i, \"not yet 10\")"
   ]
  },
  {
   "cell_type": "markdown",
   "metadata": {},
   "source": [
    "### Iteration"
   ]
  },
  {
   "cell_type": "markdown",
   "metadata": {},
   "source": [
    "You can iterate through lists, strings, and other items using for loops:"
   ]
  },
  {
   "cell_type": "code",
   "execution_count": 63,
   "metadata": {
    "collapsed": false
   },
   "outputs": [
    {
     "name": "stdout",
     "output_type": "stream",
     "text": [
      "a\n",
      "b\n",
      "c\n",
      "d\n",
      "e\n"
     ]
    }
   ],
   "source": [
    "mylist = [\"a\",\"b\",\"c\",\"d\",\"e\"]\n",
    "\n",
    "# here I am naming the variable to use inside the loop in the for statement\n",
    "for item in mylist:\n",
    "    print(item)"
   ]
  },
  {
   "cell_type": "code",
   "execution_count": 64,
   "metadata": {
    "collapsed": false
   },
   "outputs": [
    {
     "name": "stdout",
     "output_type": "stream",
     "text": [
      "c\n",
      "h\n",
      "u\n",
      "g\n",
      "a\n",
      "l\n",
      "u\n",
      "g\n"
     ]
    }
   ],
   "source": [
    "mystring = \"chugalug\"\n",
    "for character in mystring:\n",
    "    print(character)"
   ]
  },
  {
   "cell_type": "markdown",
   "metadata": {},
   "source": [
    "### Nested loops/if statements:"
   ]
  },
  {
   "cell_type": "markdown",
   "metadata": {},
   "source": [
    "You can nest code as much as you need to do what you want:"
   ]
  },
  {
   "cell_type": "code",
   "execution_count": 65,
   "metadata": {
    "collapsed": false
   },
   "outputs": [
    {
     "name": "stdout",
     "output_type": "stream",
     "text": [
      "c\n"
     ]
    }
   ],
   "source": [
    "mylist = [\"a\",\"b\",\"c\",\"d\",\"e\"]\n",
    "\n",
    "# here I am naming the variable to use inside the loop in the for statement\n",
    "for item in mylist:\n",
    "    if item == \"c\":\n",
    "        print(item)"
   ]
  },
  {
   "cell_type": "markdown",
   "metadata": {
    "collapsed": true
   },
   "source": [
    "### Loading information from a file:"
   ]
  },
  {
   "cell_type": "markdown",
   "metadata": {},
   "source": [
    "Often we will have information stored in a file that we will want to access. This is simple:"
   ]
  },
  {
   "cell_type": "code",
   "execution_count": 66,
   "metadata": {
    "collapsed": false
   },
   "outputs": [
    {
     "name": "stdout",
     "output_type": "stream",
     "text": [
      "Writing to file!\n"
     ]
    }
   ],
   "source": [
    "# You can write to file\n",
    "# BUT BE CAREFUL!\n",
    "# This will create a new file if none exists\n",
    "# but it will ERASE the file if it does exist!!\n",
    "file = open(\"newfile.txt\",\"w\",encoding=\"utf8\")\n",
    "file.write(\"Writing to file!\")\n",
    "file.close()\n",
    "\n",
    "\n",
    "# This opens a file if it is in the same directory as the script itself\n",
    "file = open(\"newfile.txt\",\"r\",encoding=\"utf8\")\n",
    "contents = file.read()\n",
    "file.close()\n",
    "print(contents)\n",
    "\n",
    "\n",
    "# If you want to add to a file, but not erase it first, use the append parameter:\n",
    "file = open(\"newfile.txt\",\"a\")\n",
    "file.write(\"Writing more to file!\")\n",
    "file.close()"
   ]
  },
  {
   "cell_type": "markdown",
   "metadata": {},
   "source": [
    "### String Math?"
   ]
  },
  {
   "cell_type": "markdown",
   "metadata": {},
   "source": [
    "You can preform some \"math\" on strings (but not all \"math\"):"
   ]
  },
  {
   "cell_type": "code",
   "execution_count": 67,
   "metadata": {
    "collapsed": false
   },
   "outputs": [
    {
     "data": {
      "text/plain": [
       "'Hi!Hi!Hi!Hi!'"
      ]
     },
     "execution_count": 67,
     "metadata": {},
     "output_type": "execute_result"
    }
   ],
   "source": [
    "string1 = \"Hi!\"\n",
    "string2 = \"Yes, indeed!\"\n",
    "\n",
    "string1*4"
   ]
  },
  {
   "cell_type": "code",
   "execution_count": 68,
   "metadata": {
    "collapsed": false
   },
   "outputs": [
    {
     "data": {
      "text/plain": [
       "'Hi!Yes, indeed!'"
      ]
     },
     "execution_count": 68,
     "metadata": {},
     "output_type": "execute_result"
    }
   ],
   "source": [
    "string1 + string2"
   ]
  },
  {
   "cell_type": "markdown",
   "metadata": {},
   "source": [
    "Subtracting two strings doesn't work, nor does dividing them."
   ]
  },
  {
   "cell_type": "code",
   "execution_count": 69,
   "metadata": {
    "collapsed": false
   },
   "outputs": [
    {
     "ename": "TypeError",
     "evalue": "unsupported operand type(s) for -: 'str' and 'str'",
     "output_type": "error",
     "traceback": [
      "\u001b[0;31m---------------------------------------------------------------------------\u001b[0m",
      "\u001b[0;31mTypeError\u001b[0m                                 Traceback (most recent call last)",
      "\u001b[0;32m<ipython-input-69-13d0d99b05a1>\u001b[0m in \u001b[0;36m<module>\u001b[0;34m()\u001b[0m\n\u001b[0;32m----> 1\u001b[0;31m \u001b[0mstring1\u001b[0m\u001b[0;34m-\u001b[0m\u001b[0mstring2\u001b[0m\u001b[0;34m\u001b[0m\u001b[0m\n\u001b[0m",
      "\u001b[0;31mTypeError\u001b[0m: unsupported operand type(s) for -: 'str' and 'str'"
     ]
    }
   ],
   "source": [
    "string1-string2"
   ]
  },
  {
   "cell_type": "code",
   "execution_count": null,
   "metadata": {
    "collapsed": true
   },
   "outputs": [],
   "source": []
  }
 ],
 "metadata": {
  "anaconda-cloud": {},
  "kernelspec": {
   "display_name": "Python [Root]",
   "language": "python",
   "name": "Python [Root]"
  },
  "language_info": {
   "codemirror_mode": {
    "name": "ipython",
    "version": 3
   },
   "file_extension": ".py",
   "mimetype": "text/x-python",
   "name": "python",
   "nbconvert_exporter": "python",
   "pygments_lexer": "ipython3",
   "version": "3.5.2"
  }
 },
 "nbformat": 4,
 "nbformat_minor": 0
}
